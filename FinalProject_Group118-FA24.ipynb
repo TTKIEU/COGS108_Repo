{
  "cells": [
    {
      "cell_type": "markdown",
      "metadata": {
        "id": "2VONYznQt6kO"
      },
      "source": [
        "# COGS 108 - Final Project (change this to your project's title)\n",
        "\n",
        "# Permissions\n",
        "\n",
        "Place an `X` in the appropriate bracket below to specify if you would like your group's project to be made available to the public. (Note that student names will be included (but PIDs will be scraped from any groups who include their PIDs).\n",
        "\n",
        "* [ X ] YES - make available\n",
        "* [  ] NO - keep private\n",
        "\n",
        "# Names\n",
        "\n",
        "- Nicole Huynh\n",
        "- Taylin Kieu\n",
        "- Justin Lu\n",
        "- Jasmine Mari Ko\n",
        "- Clara Sbardelotto Dos\n",
        "\n",
        "# Abstract\n",
        "\n",
        "Please write one to four paragraphs that describe a very brief overview of why you did this, how you did, and the major findings and conclusions."
      ]
    },
    {
      "cell_type": "markdown",
      "metadata": {
        "id": "1W6ohmEJt6kP"
      },
      "source": [
        "# Research Question"
      ]
    },
    {
      "cell_type": "markdown",
      "metadata": {
        "id": "wfduSp40t6kP"
      },
      "source": [
        "In a match of Valorant, is it preferable to continue to \"force-buy\" rounds (maxing spending limits to replenish gun and ability loadout, saving as little as possible for the next round) or to \"save\" between rounds (minimizing spending and letting bonus currency carry over) to guarantee a \"full-buy\" the next round? In other words, will one economic strategy lead to more games won over the other?\n",
        "- Sub-question: Can we predict which rounds / scenarios are best to \"force\" and which are best to \"save\", given previous round outcomes?"
      ]
    },
    {
      "cell_type": "markdown",
      "metadata": {
        "id": "PVsCxoVJt6kP"
      },
      "source": [
        "## Background and Prior Work"
      ]
    },
    {
      "cell_type": "markdown",
      "metadata": {
        "id": "VtBFkUOzt6kQ"
      },
      "source": [
        "Our project centers on Valorant, a first-person tactical shooter game developed by Riot Games, in which strategy and teamwork are vital for winning rounds. The objective of the game as an attacker is to plant a “spike”—Valorant’s version of a bomb– on a site, or clear out the defenders in the map. The defenders are tasked with taking back the site to defuse this spike or take out the attacker. The whole game is built with the premise of using a hero’s abilities, and the player’s gun skills to fight as a team of 5 to win the game. There are a variety of different factors that can affect the outcome of a round, like the available amount of money or credits, the type of weapons, and the unique skillsets of each teammate. Valorant is established through an economic system which allows each player to earn credits within each round to buy weapons and/or abilities or to “save” for future rounds. This economy leaves the option for players to spend the available credits on weaponry or abilities in order to pose an immediate effect for each round, or to conserve the amount of credits to buy a full arsenal in the future rounds.<sup><a href=\"#fn1\" id=\"ref1\">1</a></sup>\n",
        "\n",
        "Our project will focus on the strategies of “force-buying,” where players max-out spending limits to replenish guns and ability loadout, compared to “saving,” where players can afford a complete loadout purchase in a future round, which can ultimately change the outcome of the overall match. The goal of our research is to discover whether one of these strategies will lead to a higher chance of match wins, and whether there are optimal times or situations to apply either force-buying or saving.  Before we can start looking for datasets, we thought about how we could even measure how well a given round of Valorant goes besides a simple win/loss metric.\n",
        "\n",
        "One previous project published on Medium exploring a similar question<sup><a href=\"#fn2\" id=\"ref2\">2</a></sup> found that in professional play (where teams are scouted and play in esports tournaments), winning teams exhibited a higher “average combat score” (ACS) at around 214.20 in comparison to losing teams at 189.27 across 119,000 professional matches. Average combat score, a metric used to determine each players’ involvement in a round, is calculated primarily based on damage given in a round and a player’s kills and assists. We can use ACS to help us determine how a round is won or lost by taking a look at its value – higher ACS correlates with more damage dealt and kills achieved. While this seems obvious (higher damage + more kills = more wins), we are curious to know, in a first-person shooter game based heavily on characters’ unique abilities and synergies, whether purchasing such abilities or weapons have a stronger effect on statistics like ACS.\n",
        "\n",
        "While thinking one round at a time is important, with at least 13 rounds per Valorant game, managing how you spend your money is paramount to overall success. This draws from the fact that every round win nets you 3,000 credits, while a loss still nets you 1,900 credits. Furthermore, a second consecutive loss grants 2,400 while the maximum for three or more consecutive losses is 2,900. This guaranteed income is the basis for the “economic” theory in Valorant. Even if you lose two rounds in a row, you’re guaranteed 4,800 credits, which is more than the 3,900 minimum required to get a “full-buy” — defined as being able to buy all three shop categories: the most powerful gun, shield, and some if not all abilities. So by extension, a \"full-buy\" for the whole team would be 20k+ credits. Thus, if a team is continually losing and in between “full-buy” or “buy” rounds, they would be on an “eco-buy” or “eco” round — slang for “economic buying.” This happens when players opt to save money in the current round (usually by buying a cheaper, less powerful gun or none at all) in order to save for the best, most expensive guns the next. This strategy is extremely common and appears in almost every match of Valorant at some point, from lower-level play to professional tournaments. We found a tidy visualization from Reddit user u/Flameserpent, who analyzed official tournament data from 2020 to conclude that pro players actually choose to use cheaper, less powerful weapons fairly often, up to 16% of rounds played in this tournament <sup><a href=\"#fn3\" id=\"ref3\">3</a></sup>.\n",
        "\n",
        "According to a previous study focused on measuring game intensity in Valorant, it was found that as a match gets more intense, the players are more likely to spend greater amounts on better weaponry in efforts to have a “competitive advantage” <sup><a href=\"#fn4\" id=\"ref4\">4</a></sup>. On the other hand, there was a significant amount of outliers which indicates that players use what was described as an “aggressive” strategy of overspending in efforts to overwhelm the opponents early on. This showcases that force-buying and saving is not only influenced by each players’ available currency but also the match conditions and game pressure.\n",
        "\n",
        "With this in mind, we want to prove whether or not this rule of hand is backed up in the numbers. In a game like Valorant, where character abilities are just as deadly as the assault weapons players can buy, many rounds are played with “eco buys”. This information leads us to wonder how economic strategy will interact with the game’s tactical mechanics. We plan to analyze data in order to find whether previous round economic decisions and overall outcomes create specific situations where force-buying or saving will be the most optimal. If there are significant patterns within the data, there is an opportunity for development of certain guidelines in order to increase the chances of winning the match. This will offer insights on the strategic dynamics to players at any skill level, including at professional stages.\n",
        "\n",
        "<sup id=\"fn1\">1. [Valorant, Riot Games, https://playvalorant.com/en-us/]<a href=\"#ref1\" title=\"Jump back to footnote 1 in the text.\">↩</a></sup>\n",
        "\n",
        "<sup id=\"fn2\">2. [The Spike, https://www.thespike.gg/valorant/tips/acs-meaning-valorant]<a href=\"#ref2\" title=\"Jump back to footnote 2 in the text.\">↩</a></sup>\n",
        "\n",
        "<sup id=\"fn3\">3. [Reddit, https://www.reddit.com/r/ValorantCompetitive/comments/m73ny3/interactive_visualization_of_the_professional/]<a href=\"#ref3\" title=\"Jump back to footnote 3 in the text.\">↩</a></sup>\n",
        "\n",
        "<sup id=\"fn4\">4. [Utrecht University, \"Analyzing the Impact of In-Game Communication...\", https://studenttheses.uu.nl/handle/20.500.12932/48022]<a href=\"#ref4\" title=\"Jump back to footnote 4 in the text.\">↩</a></sup>\n"
      ]
    },
    {
      "cell_type": "markdown",
      "metadata": {
        "id": "IjMz_nn0t6kQ"
      },
      "source": [
        "# Hypothesis\n"
      ]
    },
    {
      "cell_type": "markdown",
      "metadata": {
        "id": "pZFahwmst6kR"
      },
      "source": [
        "We predict that after losing a round, if not everyone on a team can afford the strongest tier of guns it would be in the best interest to save the next round for the chance of getting an early lead. This is the case, unless you’re 1-2 rounds to losing the entire match, in which case you should force no matter what. This is based on the colloquial knowledge that it’s simply much harder to win fights with even odds when you have a worse gun, and that even if you’re likely to lose the “save” or “eco” next round, the advantage the enemy gains would be less impactful to the overall outcome of the game."
      ]
    },
    {
      "cell_type": "markdown",
      "metadata": {
        "id": "XWgJ_ELVt6kR"
      },
      "source": [
        "# Data"
      ]
    },
    {
      "cell_type": "markdown",
      "metadata": {
        "id": "d-I3vqBft6kR"
      },
      "source": [
        "## Data overview\n",
        "\n",
        "For each dataset include the following information\n",
        "- Dataset Name: \"Valorant Champions Tour Data (2021-2024)\"\n",
        "- Link to the dataset: https://www.kaggle.com/datasets/ryanluong1/valorant-champion-tour-2021-2023-data\n",
        "- Number of observations: 800k+\n",
        "- Number of variables: 100+\n",
        "    - **Note:** This dataset is quite comphrehensive, with data of every match played professionally in the Valorant Champions Tour (VCT) tournament circuit between the years of 2021 to 2024. While comprehensive, the data is split across many CSV files, organized by year (2021, 2022, 2023, 2024), then by agents (playable characters), IDs (player IDs, team IDs, and tournament IDs), player statistics, and matches (which are further split into 13 CSV files for each collectable data point of the game). Altogether, each folder for every year of VCT data contains **21 CSV files**, for a **total of 84 CSV files across 4 years** plus **5 additional CSV files** corroborating all match, player, team, and tournament IDs.\n",
        "\n",
        "The \"Valorant Champions Tour Data (2021-2024)\" dataset is focused on statistics from the competitive Valorant professional gameplay scraped from vlr.gg, a third-party Valorant analytics service, and offers three primary folders of smaller datasets: matches, agent, and players. While there are many more variables in the dataset, we will be looking at 12 of them;\n",
        "specifically:\n",
        "- `Match ID`: *int*; The unique id of every match played\n",
        "- `Match Name`: *string*; Specifies what teams are playing such as \"team a vs team b\"\n",
        "- `Game ID`: *int*; The ID for the map that was played from the match\n",
        "- `Map`: *string*; What map the game is being played on\n",
        "- `Team`: *string*; The team we are analyzing in this observation\n",
        "- `Team ID`: *int*; The unique team's id\n",
        "- `Round Number`: *int*; Which round of the game\n",
        "- `Loadout Value`: *string*; The total value of all the weapons, abilities, and shields from all the players on the team\n",
        "- `Remaining Credits`: *string*; How many credits the team collectively has left after buying for the round\n",
        "- `Type`: *string*; What type of economy strategy each team is using: eco, semi-eco, semi-buy, full buy\n",
        "- `Team A Score`: *int*; Team A's number of rounds won in each game\n",
        "- `Team B Score`: *int*; Team B's number of rounds won in each game\n",
        "\n",
        "**Variables Created:** *(elaborated upon further in this notebook)*\n",
        "- `game_won`: *bool*; If they won the game; created variable from Team A Score and Team B Score columbs within the map_scores dataset;\n",
        "- `round_won`: *bool*; If they won the round; used to be \"Round\" and displayed winning team for the round (ex. \"Team Liquid\" or \"Natus Vincere\")\n",
        "\n",
        "**Original Variables:**\n",
        "'Match ID', 'Match Name', 'Game ID', 'Map', 'Team', 'Team ID', 'Round Number', 'Loadout Value', 'Remaining Credits', 'Type', 'Team A Score', 'Team B Score'\n",
        "\n",
        "Since we're interested in what sort of buying strategy a team opted for (qualitative variable), we'll need to find a way to derive this from our data. Here, `Loadout Value` and `Remaining Credits` are potential proxies for the team's win probability in the current round, as well as their general economic management and in-game buying power. Using these variables, we'll later be able to judge what strategy they're opting for and use it to aggregate rounds on."
      ]
    },
    {
      "cell_type": "markdown",
      "metadata": {
        "id": "ryNV6X0zt6kS"
      },
      "source": [
        "## Valorant Champions Tour Data (2021-2024)"
      ]
    },
    {
      "cell_type": "code",
      "execution_count": null,
      "metadata": {
        "tags": [],
        "id": "BAXPrEWbt6kS",
        "outputId": "8b6da8b1-3f48-4e00-ad41-4a7dba542b53"
      },
      "outputs": [
        {
          "name": "stdout",
          "output_type": "stream",
          "text": [
            "Requirement already satisfied: pandas in /Users/wabasabi/anaconda3/lib/python3.11/site-packages (2.0.3)\n",
            "Requirement already satisfied: python-dateutil>=2.8.2 in /Users/wabasabi/anaconda3/lib/python3.11/site-packages (from pandas) (2.8.2)\n",
            "Requirement already satisfied: pytz>=2020.1 in /Users/wabasabi/anaconda3/lib/python3.11/site-packages (from pandas) (2023.3.post1)\n",
            "Requirement already satisfied: tzdata>=2022.1 in /Users/wabasabi/anaconda3/lib/python3.11/site-packages (from pandas) (2023.3)\n",
            "Requirement already satisfied: numpy>=1.21.0 in /Users/wabasabi/anaconda3/lib/python3.11/site-packages (from pandas) (1.26.4)\n",
            "Requirement already satisfied: six>=1.5 in /Users/wabasabi/anaconda3/lib/python3.11/site-packages (from python-dateutil>=2.8.2->pandas) (1.16.0)\n"
          ]
        }
      ],
      "source": [
        "!pip3 install pandas\n",
        "import pandas as pd"
      ]
    },
    {
      "cell_type": "markdown",
      "metadata": {
        "id": "LIWorvoQt6kS"
      },
      "source": [
        "Our first data wrangling task was decided after realizing that much of the data we found was not entirely relevant to our query (given how extensive the dataset is, this was to be expected). To start our data analysis, our first step was to **combine all relevant data for exploration into 1 `pandas` DataFrame for each year (4 in total).** We will be leveraging `pandas`'s capability to read in CSV files as dataframes, then merging relevant data together into 1 comprehensive dataframe for each year."
      ]
    },
    {
      "cell_type": "code",
      "execution_count": null,
      "metadata": {
        "id": "itVFYFQ-t6kT"
      },
      "outputs": [],
      "source": [
        "# all filepaths listed below, beginning with the shared data `all_ids_filepaths` for all 4 years of VCT\n",
        "all_ids_filepaths = [\n",
        "    'data/Valorant Champion Tour Data/all_ids/all_matches_games_ids.csv',\n",
        "    'data/Valorant Champion Tour Data/all_ids/all_players_ids.csv',\n",
        "    'data/Valorant Champion Tour Data/all_ids/all_teams_ids.csv',\n",
        "    'data/Valorant Champion Tour Data/all_ids/all_teams_mapping.csv',\n",
        "    'data/Valorant Champion Tour Data/all_ids/all_tournaments_stages_match_types_ids.csv'\n",
        "]\n",
        "\n",
        "# for ease of exploration, combine filepaths by choosing specific year + relevant files from `agent_filepaths`, `ids_filepaths`,\n",
        "# `match_filepaths`, and `player_stat_filepaths`\n",
        "fp_by_year = [\n",
        "    'data/Valorant Champion Tour Data/vct_2021/',\n",
        "    'data/Valorant Champion Tour Data/vct_2022/',\n",
        "    'data/Valorant Champion Tour Data/vct_2023/',\n",
        "    'data/Valorant Champion Tour Data/vct_2024/'\n",
        "]\n",
        "\n",
        "agents_filepaths = [\n",
        "    'agents/agents_pick_rates.csv',\n",
        "    'agents/maps_stats.csv',\n",
        "    'agents/teams_picked_agents.csv'\n",
        "]\n",
        "\n",
        "id_filepaths = [\n",
        "    'ids/players_ids.csv',\n",
        "    'ids/teams_ids.csv',\n",
        "    'ids/tournaments_stages_match_types_ids.csv',\n",
        "    'ids/tournaments_stages_matches_games_ids.csv',\n",
        "]\n",
        "\n",
        "match_filepaths = [\n",
        "    'matches/draft_phase.csv',\n",
        "    'matches/eco_rounds.csv',\n",
        "    'matches/eco_stats.csv',\n",
        "    'matches/kills_stats.csv',\n",
        "    'matches/kills.csv',\n",
        "    'matches/maps_played.csv',\n",
        "    'matches/maps_scores.csv',\n",
        "    'matches/overview.csv',\n",
        "    'matches/rounds_kills.csv',\n",
        "    'matches/scores.csv',\n",
        "    'matches/team_mapping.csv',\n",
        "    'matches/win_loss_methods_count.csv',\n",
        "    'matches/win_loss_methods_round_number.csv'\n",
        "]\n",
        "\n",
        "player_stat_filepaths = [\n",
        "    'players_stats/players_stats.csv'\n",
        "]"
      ]
    },
    {
      "cell_type": "markdown",
      "metadata": {
        "id": "kBxyxRjpt6kT"
      },
      "source": [
        "Because we wish to eventually explore which economic strategies fare better for a game's outcome, we will primarily be taking a look at the data from `eco_rounds`, `eco_stats`, `overview`, `maps_scores`, `win_loss_methods_round_number`, and `scores`. Although this is only a portion of the data we have available, statistics like kills and assists are not relevant for the analysis we will conduct in the future."
      ]
    },
    {
      "cell_type": "code",
      "execution_count": null,
      "metadata": {
        "id": "_mUr7uK7t6kT"
      },
      "outputs": [],
      "source": [
        "relevant_files = [\n",
        "    'ids/players_ids.csv',\n",
        "    'ids/teams_ids.csv',\n",
        "    'ids/tournaments_stages_matches_games_ids.csv',\n",
        "    'matches/eco_rounds.csv',\n",
        "    'matches/eco_stats.csv',\n",
        "    'matches/maps_scores.csv',\n",
        "    'matches/overview.csv',\n",
        "    'matches/scores.csv',\n",
        "    'matches/win_loss_methods_round_number.csv'\n",
        "]"
      ]
    },
    {
      "cell_type": "code",
      "execution_count": null,
      "metadata": {
        "id": "djogd0Ykt6kT"
      },
      "outputs": [],
      "source": [
        "path_2023 = fp_by_year[2]\n",
        "players = pd.read_csv(path_2023 + relevant_files[0])\n",
        "teams = pd.read_csv(path_2023 + relevant_files[1])\n",
        "game_ids = pd.read_csv(path_2023 + relevant_files[2])\n",
        "eco_rounds = pd.read_csv(path_2023 + relevant_files[3])\n",
        "eco_stats = pd.read_csv(path_2023 + relevant_files[4])\n",
        "map_scores = pd.read_csv(path_2023 + relevant_files[5])\n",
        "overview = pd.read_csv(path_2023 + relevant_files[6])\n",
        "scores = pd.read_csv(path_2023 + relevant_files[7])\n",
        "round_outcomes = pd.read_csv(path_2023 + relevant_files[8])"
      ]
    },
    {
      "cell_type": "markdown",
      "metadata": {
        "id": "uWossgIGt6kT"
      },
      "source": [
        "Many of the 88 variables in the above DataFrames are irrelevant or redundant; as a result, we wanted to first picture what our ideal DataFrame would first look like, then take the necessary steps to merge relevant DataFrames together + transform variables.\n",
        "\n",
        "**DataFrame we desire:** contains match ID, team ID, match name, team name, round outcome, game outcome, loadout value, remaining credits, eco round type\n",
        "\n",
        "**Prep work necessary:** Some variables that should be expressed as a number are strings (`'Loadout Value'`, `'Remaining Credits'`), so we need to also convert them into integers. Other variables like `'Outcome'` and `'Type'` are too vague and not indicative of the data we need, so we will rename those to `'Round Won'` and `'Eco Strat'`, respectively. Furthermore, a winning team's name in the `'Round Won'` (previously `'Outcome'`) column is not as useful as a boolean value, so we will convert the winning team's name from a string to booleans. Similarly, variables like `'Team A Score'` and `'Team B Score'` are not currently useful to us, but we can create a `lambda` function to create a new variable named `Game Outcome`, which lets us know whether a team won, again as a boolean value."
      ]
    },
    {
      "cell_type": "code",
      "execution_count": null,
      "metadata": {
        "id": "oCEQiDgXt6kT",
        "outputId": "925d172c-bb7a-4e22-c213-31a3a3f38987"
      },
      "outputs": [
        {
          "data": {
            "text/plain": [
              "True"
            ]
          },
          "execution_count": 5,
          "metadata": {},
          "output_type": "execute_result"
        }
      ],
      "source": [
        "# convert string to int -- test\n",
        "test_str1 = '13.9k'\n",
        "test_str2 = '23.1k'\n",
        "\n",
        "test_str1 = int(test_str1[:-1].replace('.', '')) * 100\n",
        "\n",
        "# double check that '13.9k' converts to 13900 correctly\n",
        "test_str1 == 13900"
      ]
    },
    {
      "cell_type": "code",
      "execution_count": null,
      "metadata": {
        "id": "nnWOss3Bt6kT"
      },
      "outputs": [],
      "source": [
        "# grab IDs first from `game_ids` and `team` and merge onto `eco_rounds`\n",
        "economy_test = eco_rounds.merge(game_ids, on=['Tournament', 'Stage', 'Match Type', 'Match Name', 'Map'])\n",
        "economy_test = economy_test.merge(teams, on='Team')\n",
        "\n",
        "# rename columns\n",
        "economy_test.rename(columns={'Outcome': 'Round Won', 'Type': 'Eco Strat'}, inplace=True)\n",
        "economy_test['Round Won'] = economy_test.apply(lambda row: True if row['Round Won'] == 'Win' else False, axis=1)\n",
        "\n",
        "# change `loadout value` and `remaining credits` to integers\n",
        "economy_test['Loadout Value'] = economy_test.apply(lambda row: int(row['Loadout Value'][:-1].replace('.', '')) * 100, axis=1)\n",
        "economy_test['Remaining Credits'] = economy_test.apply(lambda row: int(row['Remaining Credits'][:-1].replace('.', '')) * 100, axis=1)\n",
        "\n",
        "# add game outcomes by merging `map_scores`\n",
        "economy_test = economy_test.merge(map_scores, on=['Tournament', 'Stage', 'Match Type', 'Match Name', 'Map'])\n",
        "\n",
        "economy_test['Game Won'] = economy_test.apply(lambda row: row['Team A'] if row['Team A Score'] > row['Team B Score'] else row['Team B'], axis=1)\n",
        "\n",
        "economy_test['Game Won'] = economy_test.apply(lambda row: True if row['Game Won'] == row['Team'] else False, axis=1)"
      ]
    },
    {
      "cell_type": "code",
      "execution_count": null,
      "metadata": {
        "id": "xX3To1Gmt6kU"
      },
      "outputs": [],
      "source": [
        "# drop irrelevant columns\n",
        "economy_test = economy_test[['Match ID', 'Match Name', 'Game ID', 'Map', 'Team', 'Team ID', 'Game Won',\n",
        "       'Round Number', 'Loadout Value', 'Remaining Credits', 'Eco Strat', 'Round Won']]"
      ]
    },
    {
      "cell_type": "code",
      "execution_count": null,
      "metadata": {
        "id": "Tc4795uqt6kU"
      },
      "outputs": [],
      "source": [
        "# reformat column names\n",
        "economy_test.columns = [col.lower().replace(' ', '_') for col in economy_test.columns]"
      ]
    },
    {
      "cell_type": "code",
      "execution_count": null,
      "metadata": {
        "id": "Wo9M3VpCt6kU",
        "outputId": "b557166c-1271-432e-fbae-b3bb07584686"
      },
      "outputs": [
        {
          "data": {
            "text/plain": [
              "match_id              int64\n",
              "match_name           object\n",
              "game_id               int64\n",
              "map                  object\n",
              "team                 object\n",
              "team_id               int64\n",
              "game_won               bool\n",
              "round_number          int64\n",
              "loadout_value         int64\n",
              "remaining_credits     int64\n",
              "eco_strat            object\n",
              "round_won              bool\n",
              "dtype: object"
            ]
          },
          "execution_count": 9,
          "metadata": {},
          "output_type": "execute_result"
        }
      ],
      "source": [
        "# double check all column types are as they should be (ex. numbers should be int instead of str)\n",
        "economy_test.dtypes"
      ]
    },
    {
      "cell_type": "code",
      "execution_count": null,
      "metadata": {
        "id": "lJiEf727t6kU",
        "outputId": "64c5aa27-52d2-4c31-d978-bee90c2d0ec8"
      },
      "outputs": [
        {
          "data": {
            "text/plain": [
              "match_id             False\n",
              "match_name           False\n",
              "game_id              False\n",
              "map                  False\n",
              "team                 False\n",
              "team_id              False\n",
              "game_won             False\n",
              "round_number         False\n",
              "loadout_value        False\n",
              "remaining_credits    False\n",
              "eco_strat            False\n",
              "round_won            False\n",
              "dtype: bool"
            ]
          },
          "execution_count": 10,
          "metadata": {},
          "output_type": "execute_result"
        }
      ],
      "source": [
        "# formatting is all done, now let's check for null values!\n",
        "economy_test.isnull().all()"
      ]
    },
    {
      "cell_type": "markdown",
      "metadata": {
        "id": "cL1IETWBt6kU"
      },
      "source": [
        "As we have checked for null values and found none, our tidy and reorganized DataFrame is now ready for analysis! All that's left to do is to repeat this process for each year of data (2021-2024) to ensure we have a large enough dataset."
      ]
    },
    {
      "cell_type": "code",
      "execution_count": null,
      "metadata": {
        "id": "kfVCkc1ct6kU"
      },
      "outputs": [],
      "source": [
        "def eco_rounds_by_year(target_year):\n",
        "    relevant_files = [\n",
        "        'ids/teams_ids.csv',\n",
        "        'ids/tournaments_stages_matches_games_ids.csv',\n",
        "        'matches/eco_rounds.csv',\n",
        "        'matches/maps_scores.csv',\n",
        "    ]\n",
        "\n",
        "    path_prefix = f'data/Valorant Champion Tour Data/vct_{target_year}/'\n",
        "    teams = pd.read_csv(path_prefix + relevant_files[0])\n",
        "    game_ids = pd.read_csv(path_prefix + relevant_files[1])\n",
        "    eco_rounds = pd.read_csv(path_prefix + relevant_files[2])\n",
        "    map_scores = pd.read_csv(path_prefix + relevant_files[3])\n",
        "\n",
        "    # grab IDs first from `game_ids` and `team` and merge onto `eco_rounds`\n",
        "    economy = eco_rounds.merge(game_ids, on=['Tournament', 'Stage', 'Match Type', 'Match Name', 'Map'])\n",
        "    economy = economy.merge(teams, on='Team')\n",
        "\n",
        "    # rename columns\n",
        "    economy.rename(columns={'Outcome': 'Round Won', 'Type': 'Eco Strat'}, inplace=True)\n",
        "    economy['Round Won'] = economy.apply(lambda row: True if row['Round Won'] == 'Win' else False, axis=1)\n",
        "\n",
        "    # change `loadout value` and `remaining credits` to integers\n",
        "    economy['Loadout Value'] = economy.apply(lambda row: int(row['Loadout Value'][:-1].replace('.', '')) * 100, axis=1)\n",
        "    economy['Remaining Credits'] = economy.apply(lambda row: int(row['Remaining Credits'][:-1].replace('.', '')) * 100, axis=1)\n",
        "\n",
        "    # add game outcomes by merging `map_scores`\n",
        "    economy = economy.merge(map_scores, on=['Tournament', 'Stage', 'Match Type', 'Match Name', 'Map'])\n",
        "\n",
        "    economy['Game Won'] = economy.apply(lambda row: row['Team A'] if row['Team A Score'] > row['Team B Score'] else row['Team B'], axis=1)\n",
        "    economy['Game Won'] = economy.apply(lambda row: True if row['Game Won'] == row['Team'] else False, axis=1)\n",
        "\n",
        "    # drop irrelevant columns\n",
        "    economy = economy[['Match ID', 'Match Name', 'Game ID', 'Map', 'Team', 'Team ID', 'Game Won',\n",
        "        'Round Number', 'Loadout Value', 'Remaining Credits', 'Eco Strat', 'Round Won']]\n",
        "\n",
        "    # reformat column names\n",
        "    economy.columns = [col.lower().replace(' ', '_') for col in economy.columns]\n",
        "\n",
        "    return economy\n",
        ""
      ]
    },
    {
      "cell_type": "code",
      "execution_count": null,
      "metadata": {
        "id": "msHMWvJlt6kV"
      },
      "outputs": [],
      "source": [
        "eco_stats_2021 = eco_rounds_by_year('2021')\n",
        "eco_stats_2022 = eco_rounds_by_year('2022')\n",
        "eco_stats_2023 = eco_rounds_by_year('2023')\n",
        "eco_stats_2024 = eco_rounds_by_year('2024')"
      ]
    },
    {
      "cell_type": "code",
      "execution_count": null,
      "metadata": {
        "id": "TNXwAx1wt6kV",
        "outputId": "0f31d372-1f96-41a4-d175-c5135cc6f979"
      },
      "outputs": [
        {
          "data": {
            "text/plain": [
              "match_id             False\n",
              "match_name           False\n",
              "game_id              False\n",
              "map                  False\n",
              "team                 False\n",
              "team_id              False\n",
              "game_won             False\n",
              "round_number         False\n",
              "loadout_value        False\n",
              "remaining_credits    False\n",
              "eco_strat            False\n",
              "round_won            False\n",
              "dtype: bool"
            ]
          },
          "execution_count": 13,
          "metadata": {},
          "output_type": "execute_result"
        }
      ],
      "source": [
        "# verify that all fields in all 4 DataFrames are not empty\n",
        "eco_stats_2021.isnull().all() & eco_stats_2022.isnull().all() & eco_stats_2023.isnull().all() & eco_stats_2024.isnull().all()"
      ]
    },
    {
      "cell_type": "code",
      "execution_count": null,
      "metadata": {
        "id": "9W6aMzYWt6kV",
        "outputId": "1996ade7-806b-4aa0-fbc2-c397534e16c4"
      },
      "outputs": [
        {
          "data": {
            "text/plain": [
              "792916"
            ]
          },
          "execution_count": 14,
          "metadata": {},
          "output_type": "execute_result"
        }
      ],
      "source": [
        "# find total number of observations (total VCT rounds across 4 years)\n",
        "eco_stats_2024.shape[0] + eco_stats_2023.shape[0] + eco_stats_2022.shape[0] + eco_stats_2021.shape[0]"
      ]
    },
    {
      "cell_type": "code",
      "execution_count": null,
      "metadata": {
        "id": "P3mymCsgt6kV",
        "outputId": "c407f8ed-5403-4cc1-9697-23c301d5ff89"
      },
      "outputs": [
        {
          "data": {
            "text/html": [
              "<div>\n",
              "<style scoped>\n",
              "    .dataframe tbody tr th:only-of-type {\n",
              "        vertical-align: middle;\n",
              "    }\n",
              "\n",
              "    .dataframe tbody tr th {\n",
              "        vertical-align: top;\n",
              "    }\n",
              "\n",
              "    .dataframe thead th {\n",
              "        text-align: right;\n",
              "    }\n",
              "</style>\n",
              "<table border=\"1\" class=\"dataframe\">\n",
              "  <thead>\n",
              "    <tr style=\"text-align: right;\">\n",
              "      <th></th>\n",
              "      <th>match_id</th>\n",
              "      <th>match_name</th>\n",
              "      <th>game_id</th>\n",
              "      <th>map</th>\n",
              "      <th>team</th>\n",
              "      <th>team_id</th>\n",
              "      <th>game_won</th>\n",
              "      <th>round_number</th>\n",
              "      <th>loadout_value</th>\n",
              "      <th>remaining_credits</th>\n",
              "      <th>eco_strat</th>\n",
              "      <th>round_won</th>\n",
              "    </tr>\n",
              "  </thead>\n",
              "  <tbody>\n",
              "    <tr>\n",
              "      <th>0</th>\n",
              "      <td>378662</td>\n",
              "      <td>Gen.G vs Sentinels</td>\n",
              "      <td>180369</td>\n",
              "      <td>Haven</td>\n",
              "      <td>Gen.G</td>\n",
              "      <td>17</td>\n",
              "      <td>True</td>\n",
              "      <td>1</td>\n",
              "      <td>3900</td>\n",
              "      <td>300</td>\n",
              "      <td>Eco: 0-5k</td>\n",
              "      <td>True</td>\n",
              "    </tr>\n",
              "    <tr>\n",
              "      <th>1</th>\n",
              "      <td>378662</td>\n",
              "      <td>Gen.G vs Sentinels</td>\n",
              "      <td>180369</td>\n",
              "      <td>Haven</td>\n",
              "      <td>Gen.G</td>\n",
              "      <td>17</td>\n",
              "      <td>True</td>\n",
              "      <td>2</td>\n",
              "      <td>14500</td>\n",
              "      <td>2400</td>\n",
              "      <td>Semi-buy: 10-20k</td>\n",
              "      <td>True</td>\n",
              "    </tr>\n",
              "    <tr>\n",
              "      <th>2</th>\n",
              "      <td>378662</td>\n",
              "      <td>Gen.G vs Sentinels</td>\n",
              "      <td>180369</td>\n",
              "      <td>Haven</td>\n",
              "      <td>Gen.G</td>\n",
              "      <td>17</td>\n",
              "      <td>True</td>\n",
              "      <td>3</td>\n",
              "      <td>15300</td>\n",
              "      <td>11700</td>\n",
              "      <td>Semi-buy: 10-20k</td>\n",
              "      <td>False</td>\n",
              "    </tr>\n",
              "    <tr>\n",
              "      <th>3</th>\n",
              "      <td>378662</td>\n",
              "      <td>Gen.G vs Sentinels</td>\n",
              "      <td>180369</td>\n",
              "      <td>Haven</td>\n",
              "      <td>Gen.G</td>\n",
              "      <td>17</td>\n",
              "      <td>True</td>\n",
              "      <td>4</td>\n",
              "      <td>19000</td>\n",
              "      <td>3400</td>\n",
              "      <td>Semi-buy: 10-20k</td>\n",
              "      <td>False</td>\n",
              "    </tr>\n",
              "    <tr>\n",
              "      <th>4</th>\n",
              "      <td>378662</td>\n",
              "      <td>Gen.G vs Sentinels</td>\n",
              "      <td>180369</td>\n",
              "      <td>Haven</td>\n",
              "      <td>Gen.G</td>\n",
              "      <td>17</td>\n",
              "      <td>True</td>\n",
              "      <td>5</td>\n",
              "      <td>8400</td>\n",
              "      <td>8500</td>\n",
              "      <td>Semi-eco: 5-10k</td>\n",
              "      <td>False</td>\n",
              "    </tr>\n",
              "    <tr>\n",
              "      <th>...</th>\n",
              "      <td>...</td>\n",
              "      <td>...</td>\n",
              "      <td>...</td>\n",
              "      <td>...</td>\n",
              "      <td>...</td>\n",
              "      <td>...</td>\n",
              "      <td>...</td>\n",
              "      <td>...</td>\n",
              "      <td>...</td>\n",
              "      <td>...</td>\n",
              "      <td>...</td>\n",
              "      <td>...</td>\n",
              "    </tr>\n",
              "    <tr>\n",
              "      <th>34509</th>\n",
              "      <td>353169</td>\n",
              "      <td>Team Liquid vs Karmine Corp</td>\n",
              "      <td>173395</td>\n",
              "      <td>Sunset</td>\n",
              "      <td>Karmine Corp</td>\n",
              "      <td>8877</td>\n",
              "      <td>False</td>\n",
              "      <td>11</td>\n",
              "      <td>19700</td>\n",
              "      <td>1500</td>\n",
              "      <td>Semi-buy: 10-20k</td>\n",
              "      <td>False</td>\n",
              "    </tr>\n",
              "    <tr>\n",
              "      <th>34510</th>\n",
              "      <td>353169</td>\n",
              "      <td>Team Liquid vs Karmine Corp</td>\n",
              "      <td>173395</td>\n",
              "      <td>Sunset</td>\n",
              "      <td>Karmine Corp</td>\n",
              "      <td>8877</td>\n",
              "      <td>False</td>\n",
              "      <td>12</td>\n",
              "      <td>16700</td>\n",
              "      <td>300</td>\n",
              "      <td>Semi-buy: 10-20k</td>\n",
              "      <td>True</td>\n",
              "    </tr>\n",
              "    <tr>\n",
              "      <th>34511</th>\n",
              "      <td>353169</td>\n",
              "      <td>Team Liquid vs Karmine Corp</td>\n",
              "      <td>173395</td>\n",
              "      <td>Sunset</td>\n",
              "      <td>Karmine Corp</td>\n",
              "      <td>8877</td>\n",
              "      <td>False</td>\n",
              "      <td>13</td>\n",
              "      <td>3900</td>\n",
              "      <td>300</td>\n",
              "      <td>Eco: 0-5k</td>\n",
              "      <td>False</td>\n",
              "    </tr>\n",
              "    <tr>\n",
              "      <th>34512</th>\n",
              "      <td>353169</td>\n",
              "      <td>Team Liquid vs Karmine Corp</td>\n",
              "      <td>173395</td>\n",
              "      <td>Sunset</td>\n",
              "      <td>Karmine Corp</td>\n",
              "      <td>8877</td>\n",
              "      <td>False</td>\n",
              "      <td>14</td>\n",
              "      <td>12600</td>\n",
              "      <td>1100</td>\n",
              "      <td>Semi-buy: 10-20k</td>\n",
              "      <td>False</td>\n",
              "    </tr>\n",
              "    <tr>\n",
              "      <th>34513</th>\n",
              "      <td>353169</td>\n",
              "      <td>Team Liquid vs Karmine Corp</td>\n",
              "      <td>173395</td>\n",
              "      <td>Sunset</td>\n",
              "      <td>Karmine Corp</td>\n",
              "      <td>8877</td>\n",
              "      <td>False</td>\n",
              "      <td>15</td>\n",
              "      <td>13700</td>\n",
              "      <td>1000</td>\n",
              "      <td>Semi-buy: 10-20k</td>\n",
              "      <td>False</td>\n",
              "    </tr>\n",
              "  </tbody>\n",
              "</table>\n",
              "<p>34514 rows × 12 columns</p>\n",
              "</div>"
            ],
            "text/plain": [
              "       match_id                   match_name  game_id     map          team  \\\n",
              "0        378662           Gen.G vs Sentinels   180369   Haven         Gen.G   \n",
              "1        378662           Gen.G vs Sentinels   180369   Haven         Gen.G   \n",
              "2        378662           Gen.G vs Sentinels   180369   Haven         Gen.G   \n",
              "3        378662           Gen.G vs Sentinels   180369   Haven         Gen.G   \n",
              "4        378662           Gen.G vs Sentinels   180369   Haven         Gen.G   \n",
              "...         ...                          ...      ...     ...           ...   \n",
              "34509    353169  Team Liquid vs Karmine Corp   173395  Sunset  Karmine Corp   \n",
              "34510    353169  Team Liquid vs Karmine Corp   173395  Sunset  Karmine Corp   \n",
              "34511    353169  Team Liquid vs Karmine Corp   173395  Sunset  Karmine Corp   \n",
              "34512    353169  Team Liquid vs Karmine Corp   173395  Sunset  Karmine Corp   \n",
              "34513    353169  Team Liquid vs Karmine Corp   173395  Sunset  Karmine Corp   \n",
              "\n",
              "       team_id  game_won  round_number  loadout_value  remaining_credits  \\\n",
              "0           17      True             1           3900                300   \n",
              "1           17      True             2          14500               2400   \n",
              "2           17      True             3          15300              11700   \n",
              "3           17      True             4          19000               3400   \n",
              "4           17      True             5           8400               8500   \n",
              "...        ...       ...           ...            ...                ...   \n",
              "34509     8877     False            11          19700               1500   \n",
              "34510     8877     False            12          16700                300   \n",
              "34511     8877     False            13           3900                300   \n",
              "34512     8877     False            14          12600               1100   \n",
              "34513     8877     False            15          13700               1000   \n",
              "\n",
              "              eco_strat  round_won  \n",
              "0             Eco: 0-5k       True  \n",
              "1      Semi-buy: 10-20k       True  \n",
              "2      Semi-buy: 10-20k      False  \n",
              "3      Semi-buy: 10-20k      False  \n",
              "4       Semi-eco: 5-10k      False  \n",
              "...                 ...        ...  \n",
              "34509  Semi-buy: 10-20k      False  \n",
              "34510  Semi-buy: 10-20k       True  \n",
              "34511         Eco: 0-5k      False  \n",
              "34512  Semi-buy: 10-20k      False  \n",
              "34513  Semi-buy: 10-20k      False  \n",
              "\n",
              "[34514 rows x 12 columns]"
            ]
          },
          "execution_count": 15,
          "metadata": {},
          "output_type": "execute_result"
        }
      ],
      "source": [
        "# sample dataset\n",
        "eco_stats_2024"
      ]
    },
    {
      "cell_type": "markdown",
      "metadata": {
        "id": "J8VIROBqt6kV"
      },
      "source": [
        "With 4 DataFrames created and 792,916 total observations with all the relevant data we need for analysis, we are now completed with data wrangling / cleaning for this dataset."
      ]
    },
    {
      "cell_type": "markdown",
      "metadata": {
        "id": "lsxI5sFdt6kV"
      },
      "source": [
        "# Results\n",
        "\n",
        "## Exploratory Data Analysis\n",
        "\n",
        "Carry out whatever EDA you need to for your project.  Because every project will be different we can't really give you much of a template at this point. But please make sure you describe the what and why in text here as well as providing interpretation of results and context."
      ]
    },
    {
      "cell_type": "markdown",
      "metadata": {
        "id": "aU3iWs2Lt6kW"
      },
      "source": [
        "### Exploration 1: Potential Outliers and Variable Distributions\n",
        "\n",
        "**Outliers:** It is important to visualize the outliers in the ‘loadout_value’ and ‘remaining_credits’ variables to detect any anomalies in the normal spending patterns, thus revealing the \"force-buys\" and \"eco-rounds.\""
      ]
    },
    {
      "cell_type": "code",
      "execution_count": null,
      "metadata": {
        "id": "t38o-5VNt6kW",
        "outputId": "1a3eb7e1-4b3a-4280-9e27-afd066a0d683"
      },
      "outputs": [
        {
          "name": "stdout",
          "output_type": "stream",
          "text": [
            "Outliers in Loadout Value: 0\n",
            "Outliers in Remaining Credits: 34655\n"
          ]
        }
      ],
      "source": [
        "data = pd.concat([eco_stats_2021, eco_stats_2022, eco_stats_2023, eco_stats_2024])\n",
        "\n",
        "# define function to find outliers using Interquartile Range\n",
        "def detect_outliers(df, column):\n",
        "    Q1 = df[column].quantile(0.25)  # 25th percentile\n",
        "    Q3 = df[column].quantile(0.75)  # 75th percentile\n",
        "    IQR = Q3 - Q1  # interquartile range\n",
        "    lower_bound = Q1 - 1.5 * IQR\n",
        "    upper_bound = Q3 + 1.5 * IQR\n",
        "    return df[(df[column] < lower_bound) | (df[column] > upper_bound)]\n",
        "\n",
        "# find outliers for loadout_value and remaining_credits\n",
        "outliers_loadout = detect_outliers(data, 'loadout_value')\n",
        "outliers_credits = detect_outliers(data, 'remaining_credits')\n",
        "\n",
        "# print number of outliers\n",
        "print(f\"Outliers in Loadout Value: {len(outliers_loadout)}\")\n",
        "print(f\"Outliers in Remaining Credits: {len(outliers_credits)}\")"
      ]
    },
    {
      "cell_type": "markdown",
      "metadata": {
        "id": "rLm_Uvvut6kW"
      },
      "source": [
        "There appears to be **0 outliers** within the loadout values while the remaining credits has **34,655 outliers**. To visualize the data, here are the box plots for the 'loadout_value' and 'remaining_credits'."
      ]
    },
    {
      "cell_type": "code",
      "execution_count": null,
      "metadata": {
        "id": "GB0KZfTKt6kW",
        "outputId": "d8529923-e477-4286-e54c-6565d9e1a76a"
      },
      "outputs": [
        {
          "data": {
            "image/png": "[encoded data removed]",
            "text/plain": [
              "<Figure size 640x480 with 2 Axes>"
            ]
          },
          "metadata": {},
          "output_type": "display_data"
        }
      ],
      "source": [
        "import matplotlib.pyplot as plt\n",
        "\n",
        "# ‘loadout_value’ boxplot\n",
        "plt.subplot(1, 2, 1)\n",
        "plt.boxplot(data['loadout_value'].dropna(), vert=False, patch_artist=True, boxprops=dict(facecolor=\"blue\"))\n",
        "plt.title('Loadout Value')\n",
        "plt.xlabel('Loadout Value (Credits)')\n",
        "plt.xticks(fontsize=8)\n",
        "\n",
        "# ‘remaining_credits’ boxplot\n",
        "plt.subplot(1, 2, 2)\n",
        "plt.boxplot(data['remaining_credits'].dropna(), vert=False, patch_artist=True, boxprops=dict(facecolor=\"green\"))\n",
        "plt.title('Remaining Credits')\n",
        "plt.xlabel('Remaining Credits (Credits)')\n",
        "plt.xticks(fontsize=8)\n",
        "\n",
        "plt.tight_layout()\n",
        "plt.show()"
      ]
    },
    {
      "cell_type": "markdown",
      "metadata": {
        "id": "LmkcGKLRt6kW"
      },
      "source": [
        "**Observations within ‘loadout_values’**\n",
        "   - The boxplot showcases a lack of outliers in the ‘loadout_value’ since most of the data is within the proper range. This represents that teams consistently engaged in a spending pattern of around 22,000 credits with fewer rounds deviating from the normal spending.\n",
        "\n",
        "\n",
        "**Observations within ‘remaining_credits’**\n",
        "   - The outliers revealed in the ‘remaining_credits’ demonstrate the large range of spending patterns with the remaining credits as it exhibits the strategies of the \"eco-rounds\" compared to \"force-buying.\" This is significant because it reveals that there is not a random variability but indicates the intentionality of the teams' economic strategies.\n"
      ]
    },
    {
      "cell_type": "code",
      "execution_count": null,
      "metadata": {
        "tags": [],
        "id": "p-b4Sj6ft6kW",
        "outputId": "040f6684-6cb0-4fd2-a812-ac0affa6aeb2"
      },
      "outputs": [
        {
          "data": {
            "image/png": "[encoded data removed]",
            "text/plain": [
              "<Figure size 640x480 with 1 Axes>"
            ]
          },
          "metadata": {},
          "output_type": "display_data"
        }
      ],
      "source": [
        "import numpy as np\n",
        "import matplotlib.colors as mcolors\n",
        "\n",
        "# combine all years' loadout data\n",
        "loadout_values = pd.concat([eco_stats_2021['loadout_value'],\n",
        "                           eco_stats_2022['loadout_value'],\n",
        "                           eco_stats_2023['loadout_value'],\n",
        "                           eco_stats_2024['loadout_value']])\n",
        "\n",
        "n, bins, patches = plt.hist(loadout_values, bins=range(0, 30000, 1000), edgecolor='white')\n",
        "\n",
        "# break down loadout value roughly into different types of buys\n",
        "colors = ['#e86d66']*5 + ['#e8a366']*5 + ['#e6e866']*10 + ['#66e8b0']*15\n",
        "for patch, color in zip(patches, colors):\n",
        "    patch.set_facecolor(color)\n",
        "\n",
        "loadout_median = np.median(loadout_values)\n",
        "plt.axvline(loadout_median, color='grey', linestyle='dashed', label='Median')\n",
        "plt.text(loadout_median*0.575, plt.ylim()[1]*0.9, 'Median: {:.2f}'.format(int(loadout_median)), color='grey')\n",
        "plt.title(\"Loadout Value for Tier 1 VALORANT Rounds Played from 2021-2024\")\n",
        "plt.xlabel(\"Loadout Value (Credits)\")\n",
        "plt.ylabel(\"Frequency\")\n",
        "plt.show()"
      ]
    },
    {
      "cell_type": "markdown",
      "metadata": {
        "id": "WZGswhXkt6kW"
      },
      "source": [
        "Our distribution skews left, with the main peak around 22,000 credits and a smaller peak at 4,000 credits. Our median value is also about 21,000 credits.\n",
        "\n",
        "The smaller peak is explained by the fact that each player starts with 800 credits on the first round of each half. Additionally, every VALORANT game is guaranteed to have at least the first round on every half, meaning a team has a maximum loadout value of 4,000 to spend for 2 rounds per game.\n",
        "\n",
        "The main peak is due to a \"full-buy\" being around 2,900+1,000 = 3,900 credits for an ideal weapon and shield, with a full set of abilities costing about 700<sup><a href=\"#fn5\" id=\"ref5\">5</a></sup>. This would be 4,600 credits per person, or 23,0000 credits per team. However, our graph shows the peak at 22,000, slightly lower since ability costs have slowly been tuned up over the years as their impact has also gone up as players have gotten better at using them<sup><a href=\"#fn5\" id=\"ref6\">6</a></sup>.\n",
        "\n",
        "\n",
        "<sup id=\"fn5\">5. [VALORANT Fandom](https://valorant.fandom.com/wiki/Abilities)<a href=\"#ref5\" title=\"Jump back to footnote 5 in the text.\"> ↩</a></sup>\n",
        "\n",
        "<sup id=\"fn6\">6. [RIB.gg](https://www.rib.gg/article/next-valorant-patch-notes-to-increase-prices-of-abilites-and-decrease-prices-of-weaponry)<a href=\"#ref6\" title=\"Jump back to footnote 6 in the text.\"> ↩</a></sup>\n",
        "\n"
      ]
    },
    {
      "cell_type": "code",
      "execution_count": null,
      "metadata": {
        "tags": [],
        "id": "X8sICto5t6kW",
        "outputId": "28fd8151-d147-4564-b1ff-8b2801099d5e"
      },
      "outputs": [
        {
          "data": {
            "image/png": "[encoded data removed]",
            "text/plain": [
              "<Figure size 640x480 with 1 Axes>"
            ]
          },
          "metadata": {},
          "output_type": "display_data"
        }
      ],
      "source": [
        "n, bins, patches = plt.hist(eco_stats_2024['loadout_value'], bins=range(0, 30000, 1000), edgecolor='white')\n",
        "\n",
        "for patch, color in zip(patches, colors):\n",
        "    patch.set_facecolor(color)\n",
        "\n",
        "loadout_median = np.median(eco_stats_2024['loadout_value'])\n",
        "plt.axvline(loadout_median, color='grey', linestyle='dashed', label='Median')\n",
        "plt.text(loadout_median*0.575, plt.ylim()[1]*0.9, 'Median: {:.2f}'.format(int(loadout_median)), color='grey')\n",
        "plt.title(\"Loadout Value for Tier 1 VALORANT Rounds Played in 2024\")\n",
        "plt.xlabel(\"Loadout Value (Credits)\")\n",
        "plt.ylabel(\"Frequency\")\n",
        "plt.show()"
      ]
    },
    {
      "cell_type": "markdown",
      "metadata": {
        "tags": [],
        "id": "6-U2N9ugt6kZ"
      },
      "source": [
        "Focusing just on this past year, we can clearly see the peak being at 23,000.\n",
        "\n",
        "Now, let's take a look at the difference in loadout value between teams based on who won each round."
      ]
    },
    {
      "cell_type": "code",
      "execution_count": null,
      "metadata": {
        "tags": [],
        "id": "R50aVvsDt6kZ",
        "outputId": "93bafe1f-db46-47ae-dd04-c4995d44d434"
      },
      "outputs": [
        {
          "data": {
            "image/png": "[encoded data removed]",
            "text/plain": [
              "<Figure size 640x480 with 1 Axes>"
            ]
          },
          "metadata": {},
          "output_type": "display_data"
        }
      ],
      "source": [
        "# calculate the difference in loadout between the winning team and losing team from all years' data\n",
        "loadout_diff_init = pd.concat([eco_stats_2021[['game_id', 'round_number', 'round_won', 'loadout_value']],\n",
        "                           eco_stats_2022[['game_id', 'round_number', 'round_won', 'loadout_value']],\n",
        "                           eco_stats_2023[['game_id', 'round_number', 'round_won', 'loadout_value']],\n",
        "                           eco_stats_2024[['game_id', 'round_number', 'round_won', 'loadout_value']]])\n",
        "\n",
        "won = loadout_diff_init[loadout_diff_init['round_won']].rename(columns={'loadout_value': 'loadout_won'})\n",
        "lost = loadout_diff_init[~loadout_diff_init['round_won']].rename(columns={'loadout_value': 'loadout_lost'})\n",
        "\n",
        "loadout_diffs = pd.merge(\n",
        "                    won[['game_id', 'round_number', 'loadout_won']],\n",
        "                    lost[['game_id', 'round_number', 'loadout_lost']],\n",
        "                    on=['game_id', 'round_number'])\n",
        "loadout_diffs['loadout_diff'] = loadout_diffs['loadout_won']-loadout_diffs['loadout_lost']\n",
        "\n",
        "\n",
        "# create histogram to visualize how often \"upsets\" happen, and how big the loadout difference was\n",
        "n, bins, patches = plt.hist(loadout_diffs['loadout_diff'], bins=range(-25000, 25000, 1000), edgecolor='white')\n",
        "\n",
        "colors = ['#e86f66']*10 + ['#e86d66']*5 + ['#e89866']*5 + ['#e8c366']*5 +\\\n",
        "        ['#b4e866']*5 + ['#7ee866']*5 + ['#66e8d7']*15\n",
        "for patch, color in zip(patches, colors):\n",
        "    patch.set_facecolor(color)\n",
        "\n",
        "loadout_diff_median = np.median(loadout_diffs['loadout_diff'])\n",
        "plt.axvline(loadout_diff_median, color='grey', linestyle='dashed', label='Median')\n",
        "\n",
        "plt.text(loadout_diff_median*2, plt.ylim()[1]*0.9, 'Median: {:.2f}'.format(int(loadout_diff_median)), color='grey')\n",
        "plt.title(\"Loadout Advantage of the Winning Team for Tier 1 VALORANT Rounds Played from 2021-2024\")\n",
        "plt.xlabel(\"Loadout Advantage of Winning Team (Credits)\")\n",
        "plt.ylabel(\"Frequency\")\n",
        "plt.show()"
      ]
    },
    {
      "cell_type": "markdown",
      "metadata": {
        "id": "iXePcFUGt6kZ"
      },
      "source": [
        "Interestingly, the most common loadout difference was within ±1,000 of each other.\n",
        "\n",
        "This could be partially due to the cap of 800 credits per player during the first round of every half keeping teams to a relatively small difference in overall loadout value for 2 rounds every game. Additionally, many rounds may be played where both teams have \"full-buys\", resulting in an even chance of winning the round initially.\n",
        "\n",
        "We can also see that while there is a smaller but noticeable spike at +15,000 credits, which could likely be explained by the instances where many teams will choose to \"save\" their credits after a loss in order to guarantee a better chance the next round."
      ]
    },
    {
      "cell_type": "code",
      "execution_count": null,
      "metadata": {
        "tags": [],
        "id": "bXODVfqlt6kZ",
        "outputId": "87bc9f67-fd9d-435e-c888-f9d8c5f527a2"
      },
      "outputs": [
        {
          "data": {
            "image/png": "[encoded data removed]",
            "text/plain": [
              "<Figure size 640x480 with 1 Axes>"
            ]
          },
          "metadata": {},
          "output_type": "display_data"
        }
      ],
      "source": [
        "# combine all years' remaining credits data\n",
        "savings_values = pd.concat([eco_stats_2021['remaining_credits'],\n",
        "                           eco_stats_2022['remaining_credits'],\n",
        "                           eco_stats_2023['remaining_credits'],\n",
        "                           eco_stats_2024['remaining_credits']])\n",
        "\n",
        "n, bins, patches = plt.hist(savings_values, bins=range(0, 40000, 1000), edgecolor='white')\n",
        "\n",
        "cmap = plt.colormaps['Blues']\n",
        "norm = mcolors.Normalize(vmin=-15, vmax=len(patches))\n",
        "for i, patch in enumerate(patches):\n",
        "    color = cmap(norm(i))\n",
        "    patch.set_facecolor(color)\n",
        "\n",
        "savings_median = np.median(savings_values)\n",
        "plt.axvline(savings_median, color='grey', linestyle='dashed', label='Median')\n",
        "plt.text(savings_median*1.1, plt.ylim()[1]*0.9, 'Median: {:.2f}'.format(int(savings_median)), color='grey')\n",
        "plt.title(\"Remaining Credits for Tier 1 VALORANT Rounds Played from 2021-2024\")\n",
        "plt.xlabel(\"Remaining Credits\")\n",
        "plt.ylabel(\"Frequency\")\n",
        "plt.show()"
      ]
    },
    {
      "cell_type": "markdown",
      "metadata": {
        "id": "mOmdAn-pt6ka"
      },
      "source": [
        "With the distribution of `remaining_credits` in all rounds of Valorant, we can observe its right skew with a median of 7,000 and a peak from 0-1,000 credits (0 to 200 credits saved per person). This generally tracks with what we know, as every credit spent can help turn the tide of a round or game. By saving little, you're giving yourself the best chance to win the current round, which might happen during the first and last rounds per half, and every round you're on match point for.\n",
        "\n",
        "We also find a noticeable though smaller peak from 8,000 to 10,000 (1,600-2,000 credits saved per person). This could be from rounds where a team fully saves the money earned (1,900 for first loss), as their next loss would net them an additional 2,400 credits, bringing them up to 4,300 credits where they could have a relatively strong 'full-buy.'"
      ]
    },
    {
      "cell_type": "markdown",
      "metadata": {
        "id": "ZmswEwCPt6ka"
      },
      "source": [
        "### Exploration 2: Eco Strat vs. Round / Game Outcome\n",
        "\n",
        "To first get a grasp on how economic strategies affect each point of the game, we wanted to explore if different strategies tended to lead to one round outcome or another.\n",
        "\n",
        "We can start our EDA by just taking our most important columns and making 2 DataFrames, `eco_vs_round` and `eco_vs_game`.\n",
        "\n",
        "The columns we will keep for `eco_vs_round` will be:\n",
        "- `match_name`\n",
        "- `team`\n",
        "- `round_number`\n",
        "- `eco_strat`\n",
        "- `round_won`\n",
        "\n",
        "The columns we will keep for `eco_vs_game` will be:\n",
        "- `game_id`\n",
        "- `team`\n",
        "- `game_won`\n",
        "- `eco_strat`"
      ]
    },
    {
      "cell_type": "code",
      "execution_count": null,
      "metadata": {
        "id": "Z6kVSKpjt6ka",
        "outputId": "f857a743-ee96-4ff7-d649-8cef805b8503"
      },
      "outputs": [
        {
          "name": "stdout",
          "output_type": "stream",
          "text": [
            "round_won\n",
            "False    73842\n",
            "True     42673\n",
            "Name: count, dtype: int64\n",
            "round_won\n",
            "False    45376\n",
            "True      9905\n",
            "Name: count, dtype: int64\n",
            "round_won\n",
            "True     87511\n",
            "False    83392\n",
            "Name: count, dtype: int64\n",
            "round_won\n",
            "True     256369\n",
            "False    193848\n",
            "Name: count, dtype: int64\n"
          ]
        }
      ],
      "source": [
        "# create DataFrame with all data from 2021-2024\n",
        "eco = pd.concat([eco_stats_2021, eco_stats_2022, eco_stats_2023, eco_stats_2024])\n",
        "\n",
        "eco_vs_round = eco[['match_name', 'team', 'round_number', 'eco_strat', 'round_won']]\n",
        "\n",
        "print(eco_vs_round[eco_vs_round['eco_strat'] == 'Eco: 0-5k']['round_won'].value_counts())\n",
        "print(eco_vs_round[eco_vs_round['eco_strat'] == 'Semi-eco: 5-10k']['round_won'].value_counts())\n",
        "print(eco_vs_round[eco_vs_round['eco_strat'] == 'Semi-buy: 10-20k']['round_won'].value_counts())\n",
        "print(eco_vs_round[eco_vs_round['eco_strat'] == 'Full buy: 20k+']['round_won'].value_counts())"
      ]
    },
    {
      "cell_type": "markdown",
      "metadata": {
        "id": "QnnqKQXnt6ka"
      },
      "source": [
        "From this quick overview of the values of the `round_won` column for each economic strategy (eco buy, semi-buy, and full buy), we can see that overwhelmingly more rounds were lost when deploying the eco buy strategy, rounds won and lost were about even when semi-buying loadouts, and usually more rounds were won after fully buying a loadout.\n",
        "\n",
        "To more easily understand round winrates for each \\\"eco strat\\\", we can encode the boolean values in `round_won` using 0 to represent `False` and 1 to represent `True`."
      ]
    },
    {
      "cell_type": "code",
      "execution_count": null,
      "metadata": {
        "id": "xXUvGcIJt6ka",
        "outputId": "072dc975-f5bb-48fc-f9c1-d7676d683911"
      },
      "outputs": [
        {
          "name": "stdout",
          "output_type": "stream",
          "text": [
            "Eco Buy Avg. Winrate: 0.36624468952495387\n",
            "Semi-Eco Avg. Winrate: 0.1791754852480961\n",
            "Semi-Buy Avg. Winrate: 0.5120506954237198\n",
            "Full Buy Avg. Winrate: 0.5694342950177359\n"
          ]
        }
      ],
      "source": [
        "eco_vs_round.loc[:, 'round_won'] = eco_vs_round['round_won'].astype(int)\n",
        "\n",
        "eco_wr = eco_vs_round[eco_vs_round['eco_strat'] == 'Eco: 0-5k']['round_won'].mean()\n",
        "semi_eco_wr = eco_vs_round[eco_vs_round['eco_strat'] == 'Semi-eco: 5-10k']['round_won'].mean()\n",
        "semi_wr = eco_vs_round[eco_vs_round['eco_strat'] == 'Semi-buy: 10-20k']['round_won'].mean()\n",
        "full_wr = eco_vs_round[eco_vs_round['eco_strat'] == 'Full buy: 20k+']['round_won'].mean()\n",
        "\n",
        "print('Eco Buy Avg. Winrate: ' + str(eco_wr))\n",
        "print('Semi-Eco Avg. Winrate: ' + str(semi_eco_wr))\n",
        "print('Semi-Buy Avg. Winrate: ' + str(semi_wr))\n",
        "print('Full Buy Avg. Winrate: ' + str(full_wr))"
      ]
    },
    {
      "cell_type": "markdown",
      "metadata": {
        "id": "jGfS8uhLt6ka"
      },
      "source": [
        "Let's take a closer look at the correlation between these three economic strategies with round outcomes."
      ]
    },
    {
      "cell_type": "code",
      "execution_count": null,
      "metadata": {
        "id": "rqk6Srjqt6ka",
        "outputId": "3dda5f33-b6bf-448e-9b35-56d4d3c25d5e"
      },
      "outputs": [
        {
          "data": {
            "image/png": "[encoded data removed]",
            "text/plain": [
              "<Figure size 800x600 with 1 Axes>"
            ]
          },
          "metadata": {},
          "output_type": "display_data"
        }
      ],
      "source": [
        "win_rate = eco.groupby('eco_strat')['round_won'].mean()\n",
        "\n",
        "win_rate.plot(kind='bar', color=['#e86d66', '#e8a366', '#e6e866', '#66e8b0'], figsize=(8, 6))\n",
        "plt.title('Win Rate by Eco Strategy')\n",
        "plt.xlabel('Eco Strategy')\n",
        "plt.ylabel('Win Rate')\n",
        "plt.xticks(rotation=0)\n",
        "plt.ylim(0, 1)\n",
        "plt.show()"
      ]
    },
    {
      "cell_type": "markdown",
      "metadata": {
        "id": "ABEx09ast6ka"
      },
      "source": [
        "It seems that generally speaking, higher loadout value in each round generally leads to a much higher winrate. But what about cases where teams strategize to save money one round in order to purchase a more valuable loadout the next? Would this lead to a more favorable round winrate?\n",
        "\n",
        "To start this analysis, we need to filter out rounds that had \"full buys\" after rounds that were \"eco buys\". We can simplify this operation by leveraging boolean operations."
      ]
    },
    {
      "cell_type": "code",
      "execution_count": null,
      "metadata": {
        "id": "W6rUY_gAt6kb",
        "outputId": "09d41d15-f785-448f-eaff-074992cb119b"
      },
      "outputs": [
        {
          "data": {
            "text/plain": [
              "True"
            ]
          },
          "execution_count": 34,
          "metadata": {},
          "output_type": "execute_result"
        }
      ],
      "source": [
        "True > False"
      ]
    },
    {
      "cell_type": "code",
      "execution_count": null,
      "metadata": {
        "id": "PDmwfHFmt6kb",
        "outputId": "fb559ec3-ec21-49e6-9955-62b87a7f18ff"
      },
      "outputs": [
        {
          "data": {
            "text/html": [
              "<div>\n",
              "<style scoped>\n",
              "    .dataframe tbody tr th:only-of-type {\n",
              "        vertical-align: middle;\n",
              "    }\n",
              "\n",
              "    .dataframe tbody tr th {\n",
              "        vertical-align: top;\n",
              "    }\n",
              "\n",
              "    .dataframe thead th {\n",
              "        text-align: right;\n",
              "    }\n",
              "</style>\n",
              "<table border=\"1\" class=\"dataframe\">\n",
              "  <thead>\n",
              "    <tr style=\"text-align: right;\">\n",
              "      <th></th>\n",
              "      <th>match_id</th>\n",
              "      <th>match_name</th>\n",
              "      <th>game_id</th>\n",
              "      <th>map</th>\n",
              "      <th>team</th>\n",
              "      <th>team_id</th>\n",
              "      <th>game_won</th>\n",
              "      <th>round_number</th>\n",
              "      <th>loadout_value</th>\n",
              "      <th>remaining_credits</th>\n",
              "      <th>eco_strat</th>\n",
              "      <th>round_won</th>\n",
              "      <th>won_after_eco</th>\n",
              "      <th>won_after_semi_eco</th>\n",
              "      <th>won_after_semi</th>\n",
              "      <th>after_eco_buy</th>\n",
              "      <th>after_semi_eco</th>\n",
              "      <th>after_semi_buy</th>\n",
              "    </tr>\n",
              "  </thead>\n",
              "  <tbody>\n",
              "    <tr>\n",
              "      <th>0</th>\n",
              "      <td>51282</td>\n",
              "      <td>Vision Strikers vs FULL SENSE</td>\n",
              "      <td>57948.0</td>\n",
              "      <td>Haven</td>\n",
              "      <td>Vision Strikers</td>\n",
              "      <td>198.0</td>\n",
              "      <td>True</td>\n",
              "      <td>1</td>\n",
              "      <td>3900</td>\n",
              "      <td>400</td>\n",
              "      <td>Eco: 0-5k</td>\n",
              "      <td>True</td>\n",
              "      <td>False</td>\n",
              "      <td>False</td>\n",
              "      <td>False</td>\n",
              "      <td>False</td>\n",
              "      <td>False</td>\n",
              "      <td>False</td>\n",
              "    </tr>\n",
              "    <tr>\n",
              "      <th>1</th>\n",
              "      <td>51282</td>\n",
              "      <td>Vision Strikers vs FULL SENSE</td>\n",
              "      <td>57948.0</td>\n",
              "      <td>Haven</td>\n",
              "      <td>Vision Strikers</td>\n",
              "      <td>198.0</td>\n",
              "      <td>True</td>\n",
              "      <td>2</td>\n",
              "      <td>14400</td>\n",
              "      <td>5200</td>\n",
              "      <td>Semi-buy: 10-20k</td>\n",
              "      <td>True</td>\n",
              "      <td>False</td>\n",
              "      <td>False</td>\n",
              "      <td>False</td>\n",
              "      <td>False</td>\n",
              "      <td>False</td>\n",
              "      <td>False</td>\n",
              "    </tr>\n",
              "    <tr>\n",
              "      <th>2</th>\n",
              "      <td>51282</td>\n",
              "      <td>Vision Strikers vs FULL SENSE</td>\n",
              "      <td>57948.0</td>\n",
              "      <td>Haven</td>\n",
              "      <td>Vision Strikers</td>\n",
              "      <td>198.0</td>\n",
              "      <td>True</td>\n",
              "      <td>3</td>\n",
              "      <td>17600</td>\n",
              "      <td>15200</td>\n",
              "      <td>Semi-buy: 10-20k</td>\n",
              "      <td>False</td>\n",
              "      <td>False</td>\n",
              "      <td>False</td>\n",
              "      <td>False</td>\n",
              "      <td>False</td>\n",
              "      <td>False</td>\n",
              "      <td>False</td>\n",
              "    </tr>\n",
              "    <tr>\n",
              "      <th>3</th>\n",
              "      <td>51282</td>\n",
              "      <td>Vision Strikers vs FULL SENSE</td>\n",
              "      <td>57948.0</td>\n",
              "      <td>Haven</td>\n",
              "      <td>Vision Strikers</td>\n",
              "      <td>198.0</td>\n",
              "      <td>True</td>\n",
              "      <td>4</td>\n",
              "      <td>22600</td>\n",
              "      <td>4700</td>\n",
              "      <td>Full buy: 20k+</td>\n",
              "      <td>True</td>\n",
              "      <td>False</td>\n",
              "      <td>False</td>\n",
              "      <td>False</td>\n",
              "      <td>False</td>\n",
              "      <td>False</td>\n",
              "      <td>True</td>\n",
              "    </tr>\n",
              "    <tr>\n",
              "      <th>4</th>\n",
              "      <td>51282</td>\n",
              "      <td>Vision Strikers vs FULL SENSE</td>\n",
              "      <td>57948.0</td>\n",
              "      <td>Haven</td>\n",
              "      <td>Vision Strikers</td>\n",
              "      <td>198.0</td>\n",
              "      <td>True</td>\n",
              "      <td>5</td>\n",
              "      <td>22000</td>\n",
              "      <td>4200</td>\n",
              "      <td>Full buy: 20k+</td>\n",
              "      <td>True</td>\n",
              "      <td>False</td>\n",
              "      <td>False</td>\n",
              "      <td>True</td>\n",
              "      <td>False</td>\n",
              "      <td>False</td>\n",
              "      <td>True</td>\n",
              "    </tr>\n",
              "    <tr>\n",
              "      <th>...</th>\n",
              "      <td>...</td>\n",
              "      <td>...</td>\n",
              "      <td>...</td>\n",
              "      <td>...</td>\n",
              "      <td>...</td>\n",
              "      <td>...</td>\n",
              "      <td>...</td>\n",
              "      <td>...</td>\n",
              "      <td>...</td>\n",
              "      <td>...</td>\n",
              "      <td>...</td>\n",
              "      <td>...</td>\n",
              "      <td>...</td>\n",
              "      <td>...</td>\n",
              "      <td>...</td>\n",
              "      <td>...</td>\n",
              "      <td>...</td>\n",
              "      <td>...</td>\n",
              "    </tr>\n",
              "    <tr>\n",
              "      <th>34509</th>\n",
              "      <td>353169</td>\n",
              "      <td>Team Liquid vs Karmine Corp</td>\n",
              "      <td>173395.0</td>\n",
              "      <td>Sunset</td>\n",
              "      <td>Karmine Corp</td>\n",
              "      <td>8877.0</td>\n",
              "      <td>False</td>\n",
              "      <td>11</td>\n",
              "      <td>19700</td>\n",
              "      <td>1500</td>\n",
              "      <td>Semi-buy: 10-20k</td>\n",
              "      <td>False</td>\n",
              "      <td>False</td>\n",
              "      <td>False</td>\n",
              "      <td>False</td>\n",
              "      <td>False</td>\n",
              "      <td>False</td>\n",
              "      <td>False</td>\n",
              "    </tr>\n",
              "    <tr>\n",
              "      <th>34510</th>\n",
              "      <td>353169</td>\n",
              "      <td>Team Liquid vs Karmine Corp</td>\n",
              "      <td>173395.0</td>\n",
              "      <td>Sunset</td>\n",
              "      <td>Karmine Corp</td>\n",
              "      <td>8877.0</td>\n",
              "      <td>False</td>\n",
              "      <td>12</td>\n",
              "      <td>16700</td>\n",
              "      <td>300</td>\n",
              "      <td>Semi-buy: 10-20k</td>\n",
              "      <td>True</td>\n",
              "      <td>False</td>\n",
              "      <td>False</td>\n",
              "      <td>False</td>\n",
              "      <td>False</td>\n",
              "      <td>False</td>\n",
              "      <td>False</td>\n",
              "    </tr>\n",
              "    <tr>\n",
              "      <th>34511</th>\n",
              "      <td>353169</td>\n",
              "      <td>Team Liquid vs Karmine Corp</td>\n",
              "      <td>173395.0</td>\n",
              "      <td>Sunset</td>\n",
              "      <td>Karmine Corp</td>\n",
              "      <td>8877.0</td>\n",
              "      <td>False</td>\n",
              "      <td>13</td>\n",
              "      <td>3900</td>\n",
              "      <td>300</td>\n",
              "      <td>Eco: 0-5k</td>\n",
              "      <td>False</td>\n",
              "      <td>False</td>\n",
              "      <td>False</td>\n",
              "      <td>False</td>\n",
              "      <td>False</td>\n",
              "      <td>False</td>\n",
              "      <td>False</td>\n",
              "    </tr>\n",
              "    <tr>\n",
              "      <th>34512</th>\n",
              "      <td>353169</td>\n",
              "      <td>Team Liquid vs Karmine Corp</td>\n",
              "      <td>173395.0</td>\n",
              "      <td>Sunset</td>\n",
              "      <td>Karmine Corp</td>\n",
              "      <td>8877.0</td>\n",
              "      <td>False</td>\n",
              "      <td>14</td>\n",
              "      <td>12600</td>\n",
              "      <td>1100</td>\n",
              "      <td>Semi-buy: 10-20k</td>\n",
              "      <td>False</td>\n",
              "      <td>False</td>\n",
              "      <td>False</td>\n",
              "      <td>False</td>\n",
              "      <td>False</td>\n",
              "      <td>False</td>\n",
              "      <td>False</td>\n",
              "    </tr>\n",
              "    <tr>\n",
              "      <th>34513</th>\n",
              "      <td>353169</td>\n",
              "      <td>Team Liquid vs Karmine Corp</td>\n",
              "      <td>173395.0</td>\n",
              "      <td>Sunset</td>\n",
              "      <td>Karmine Corp</td>\n",
              "      <td>8877.0</td>\n",
              "      <td>False</td>\n",
              "      <td>15</td>\n",
              "      <td>13700</td>\n",
              "      <td>1000</td>\n",
              "      <td>Semi-buy: 10-20k</td>\n",
              "      <td>False</td>\n",
              "      <td>False</td>\n",
              "      <td>False</td>\n",
              "      <td>False</td>\n",
              "      <td>False</td>\n",
              "      <td>False</td>\n",
              "      <td>False</td>\n",
              "    </tr>\n",
              "  </tbody>\n",
              "</table>\n",
              "<p>792916 rows × 18 columns</p>\n",
              "</div>"
            ],
            "text/plain": [
              "       match_id                     match_name   game_id     map  \\\n",
              "0         51282  Vision Strikers vs FULL SENSE   57948.0   Haven   \n",
              "1         51282  Vision Strikers vs FULL SENSE   57948.0   Haven   \n",
              "2         51282  Vision Strikers vs FULL SENSE   57948.0   Haven   \n",
              "3         51282  Vision Strikers vs FULL SENSE   57948.0   Haven   \n",
              "4         51282  Vision Strikers vs FULL SENSE   57948.0   Haven   \n",
              "...         ...                            ...       ...     ...   \n",
              "34509    353169    Team Liquid vs Karmine Corp  173395.0  Sunset   \n",
              "34510    353169    Team Liquid vs Karmine Corp  173395.0  Sunset   \n",
              "34511    353169    Team Liquid vs Karmine Corp  173395.0  Sunset   \n",
              "34512    353169    Team Liquid vs Karmine Corp  173395.0  Sunset   \n",
              "34513    353169    Team Liquid vs Karmine Corp  173395.0  Sunset   \n",
              "\n",
              "                  team  team_id  game_won  round_number  loadout_value  \\\n",
              "0      Vision Strikers    198.0      True             1           3900   \n",
              "1      Vision Strikers    198.0      True             2          14400   \n",
              "2      Vision Strikers    198.0      True             3          17600   \n",
              "3      Vision Strikers    198.0      True             4          22600   \n",
              "4      Vision Strikers    198.0      True             5          22000   \n",
              "...                ...      ...       ...           ...            ...   \n",
              "34509     Karmine Corp   8877.0     False            11          19700   \n",
              "34510     Karmine Corp   8877.0     False            12          16700   \n",
              "34511     Karmine Corp   8877.0     False            13           3900   \n",
              "34512     Karmine Corp   8877.0     False            14          12600   \n",
              "34513     Karmine Corp   8877.0     False            15          13700   \n",
              "\n",
              "       remaining_credits         eco_strat  round_won  won_after_eco  \\\n",
              "0                    400         Eco: 0-5k       True          False   \n",
              "1                   5200  Semi-buy: 10-20k       True          False   \n",
              "2                  15200  Semi-buy: 10-20k      False          False   \n",
              "3                   4700    Full buy: 20k+       True          False   \n",
              "4                   4200    Full buy: 20k+       True          False   \n",
              "...                  ...               ...        ...            ...   \n",
              "34509               1500  Semi-buy: 10-20k      False          False   \n",
              "34510                300  Semi-buy: 10-20k       True          False   \n",
              "34511                300         Eco: 0-5k      False          False   \n",
              "34512               1100  Semi-buy: 10-20k      False          False   \n",
              "34513               1000  Semi-buy: 10-20k      False          False   \n",
              "\n",
              "       won_after_semi_eco  won_after_semi  after_eco_buy  after_semi_eco  \\\n",
              "0                   False           False          False           False   \n",
              "1                   False           False          False           False   \n",
              "2                   False           False          False           False   \n",
              "3                   False           False          False           False   \n",
              "4                   False            True          False           False   \n",
              "...                   ...             ...            ...             ...   \n",
              "34509               False           False          False           False   \n",
              "34510               False           False          False           False   \n",
              "34511               False           False          False           False   \n",
              "34512               False           False          False           False   \n",
              "34513               False           False          False           False   \n",
              "\n",
              "       after_semi_buy  \n",
              "0               False  \n",
              "1               False  \n",
              "2               False  \n",
              "3                True  \n",
              "4                True  \n",
              "...               ...  \n",
              "34509           False  \n",
              "34510           False  \n",
              "34511           False  \n",
              "34512           False  \n",
              "34513           False  \n",
              "\n",
              "[792916 rows x 18 columns]"
            ]
          },
          "execution_count": 35,
          "metadata": {},
          "output_type": "execute_result"
        }
      ],
      "source": [
        "dummy = eco.copy()\n",
        "\n",
        "dummy['won_after_eco'] = (dummy['round_won'] > dummy['round_won'].shift(2)) & (dummy['eco_strat'] == 'Full buy: 20k+') & (dummy['eco_strat'].shift(2) == 'Eco: 0-5k')\n",
        "dummy['won_after_semi_eco'] = (dummy['round_won'] > dummy['round_won'].shift(2)) & (dummy['eco_strat'] == 'Full buy: 20k+') & (dummy['eco_strat'].shift(2) == 'Semi-eco: 5-10k')\n",
        "dummy['won_after_semi'] = (dummy['round_won'] > dummy['round_won'].shift(2)) & (dummy['eco_strat'] == 'Full buy: 20k+') & (dummy['eco_strat'].shift(2) == 'Semi-buy: 10-20k')\n",
        "\n",
        "dummy['after_eco_buy'] = (dummy['eco_strat'] == 'Full buy: 20k+') & (dummy['eco_strat'].shift(2) == 'Eco: 0-5k')\n",
        "dummy['after_semi_eco'] = (dummy['eco_strat'] == 'Full buy: 20k+') & (dummy['eco_strat'].shift(2) == 'Semi-eco: 5-10k')\n",
        "dummy['after_semi_buy'] = (dummy['eco_strat'] == 'Full buy: 20k+') & (dummy['eco_strat'].shift(2) == 'Semi-buy: 10-20k')\n",
        "\n",
        "dummy"
      ]
    },
    {
      "cell_type": "code",
      "execution_count": null,
      "metadata": {
        "id": "-ErN-o5ut6kb",
        "outputId": "411ffa7b-b286-41ce-8d30-362d9cf3af50"
      },
      "outputs": [
        {
          "name": "stdout",
          "output_type": "stream",
          "text": [
            "Avg. winrate when full-buying after an eco-buy round: 0.4957919369406355\n",
            "Avg. winrate when full-buying after a semi-eco round 0.36373937677053825\n",
            "Avg. winrate when full-buying after a semi-buy round 0.20649649619195393\n"
          ]
        }
      ],
      "source": [
        "# check winrates of new columns\n",
        "after_eco = dummy[dummy['after_eco_buy'] == True]\n",
        "after_semi_eco = dummy[dummy['after_semi_eco'] == True]\n",
        "after_semi = dummy[dummy['after_semi_buy'] == True]\n",
        "\n",
        "wr_after_eco = after_eco['won_after_eco'].mean()\n",
        "wr_after_semi_eco = after_semi_eco['won_after_semi_eco'].mean()\n",
        "wr_after_semi = after_semi['won_after_semi'].mean()\n",
        "\n",
        "print('Avg. winrate when full-buying after an eco-buy round: ' + str(wr_after_eco))\n",
        "print('Avg. winrate when full-buying after a semi-eco round ' + str(wr_after_semi_eco))\n",
        "print('Avg. winrate when full-buying after a semi-buy round ' + str(wr_after_semi))"
      ]
    },
    {
      "cell_type": "markdown",
      "metadata": {
        "id": "Rmu22NF0t6kb"
      },
      "source": [
        "It seems that winrate is highest when saving during an eco-buy round before full-buying the next. Let's compare this data to the average winrates of each eco strategy once again."
      ]
    },
    {
      "cell_type": "code",
      "execution_count": null,
      "metadata": {
        "id": "Q2AL2wDft6kb",
        "outputId": "5cc743df-c39e-455c-812d-a9a310c5f3c8"
      },
      "outputs": [
        {
          "name": "stdout",
          "output_type": "stream",
          "text": [
            "Eco Buy Avg. Winrate: 0.36624468952495387\n",
            "Semi-Eco Avg. Winrate: 0.1791754852480961\n",
            "Semi-Buy Avg. Winrate: 0.5120506954237198\n",
            "Full Buy Avg. Winrate: 0.5694342950177359\n"
          ]
        }
      ],
      "source": [
        "print('Eco Buy Avg. Winrate: ' + str(eco_wr))\n",
        "print('Semi-Eco Avg. Winrate: ' + str(semi_eco_wr))\n",
        "print('Semi-Buy Avg. Winrate: ' + str(semi_wr))\n",
        "print('Full Buy Avg. Winrate: ' + str(full_wr))"
      ]
    },
    {
      "cell_type": "markdown",
      "metadata": {
        "id": "H3nPByKZt6kb"
      },
      "source": [
        "Through the exploration of the data, we saw that by calculating the range of the ‘loadout_value’ and ‘remaining_credit’ variables, we were able to determine if there were different outliers within them. With ‘remaining_credits’ we determined that there is a large range of spending patterns, but only due to the fact that teams employ different strategies for the economy, such as having couple teammates “force” while some “save” to have the best possible chance of winning and gaining back a lead.\n",
        "\n",
        "The load-out advantage for round played also illustrates the obvious situation of teams more evenly winning when being equal in buys, as they are more equal in playing field. We hypothesize that the second peak in the frequency of winning to be because of the team’s decision to “save” their credits after a loss to guarantee a more even playing field the next round.\n",
        "\n",
        "The next exploration of the data found that most rounds were lost when doing a semi-eco and won during a full buy, but that doesn’t bring in consideration the strategic buying to help win the next round.\n",
        "\n",
        "For that step, we leveraged boolean operations to find that, indeed, among full-buy rounds after non-full buying rounds (ie. eco, semi-eco, semi) saving during an eco-buy round seemed to lead to a higher round winrate during a full-buy round."
      ]
    },
    {
      "cell_type": "markdown",
      "metadata": {
        "id": "7tFKk7cwt6kc"
      },
      "source": [
        "# Ethics & Privacy"
      ]
    },
    {
      "cell_type": "markdown",
      "metadata": {
        "id": "4LGKlQiqt6kc"
      },
      "source": [
        "Our question asked assumes that there is a tangible outcome on the game when the player does buy weapons over abilities. The question might cause bias towards a certain playstyle by focusing on the prioritizing weapon buying but we handled this by making the question more open ended. Getting data on Valorant players involves multiple privacy concerns. There needs to be a guarantee of anonymity of players by not collecting gamer tags or any other personal identifiers. It’s also important to confirm that the data was taken with the consent of the players. Focusing on the dataset by Joshua Broas, it’s important to consider if this dataset is representative of the whole database as it’s scraped from a very tiny portion of the community. If the data is skewed towards a certain rank and common playstyle, it might cause biased conclusions in that sense.\n",
        "\n",
        "To address and handle the aforementioned bias, we’ve carefully considered many issues related to data collection, data bias, and analysis. Since we are planning to used scraped data, we don’t plan on using any personal identifiers in our data and most publicly available data on this topic, notably from the Joshua Broas, don’t include any personal information in their datasets. Additionally, we plan on making sure our use of data falls in line with Riot Games’ Privacy Policy that they have publicized, adhering to the game’s data sharing and usage policies. As mentioned, our datasets may have inherent bias due to the currently existing datasets that are made available to us and one portion of the playerbased may be overrepresented. We plan to find more diverse data in terms of rank and role and supplementing some data from those resources, weighing existing data to better fit the game’s actual player rank distribution in order to ensure balanced representation of all ranks. In order to address bias in our dataset further, we must transparently state potential limitations and biases of our sample set and explicitly adhere to the privacy guidelines Riot Games has set out."
      ]
    },
    {
      "cell_type": "markdown",
      "metadata": {
        "id": "8PVQ8dEQt6kc"
      },
      "source": [
        "# Team Expectations"
      ]
    },
    {
      "cell_type": "markdown",
      "metadata": {
        "id": "QtqssnHqt6kc"
      },
      "source": [
        "- Team Expectation 1: Completing weekly tasks by date agreed upon by group. Tasks will be split weekly to comply with the due dates for the project. It is expected that each member completes their assigned task by Tuesday night before Wednesday due date to allow for an extra day if other issues arise. We will utilize When2Meet when a new assignment drops, to figure out timing that would work for each member. If we want to do it in person, Geisel or PC.\n",
        "\n",
        "- Team Expectation 2: Effectively communicating any problems or interferences if they arise. Discord is our primary form of communication, where we can meet virtually 1-2 times per week to distribute the assigned task. If we cannot meet in call, the group chat (GC) in discord is what should be used to organize the work.\n",
        "\n",
        "- Team Expectation 3: Utilizing a constructive tone to provide solutions or bring up issues. The expectation around the tone of expressing opinions would be to always seek to provide constructive criticism by suggesting solutions alongside the problem that is encountered.\n",
        "\n",
        "- Team Expectation 4: Maintaining a balance in workload between members. The amount of time and effort put into each role should remain balanced so that there are no specific group members completing the majority of the work. This means that each member should put in an equal amount of effort into each task. If a group member feels like a member is not putting in the work, it is their responsibility to communicate that to the group and to the person in question.\n",
        "\n",
        "- Team Expectation 5: Asking for help on Discord. If someone is struggling to complete an assigned task, the next step would be to send a message to the Discord chat to inform group members and to see if extra help can be provided by other members, if necessary."
      ]
    },
    {
      "cell_type": "markdown",
      "metadata": {
        "id": "EuI8HWZKt6kc"
      },
      "source": [
        "# Discussion and Conclusion\n",
        "\n",
        "Our exploration of the impact of a team's economic strategy revealed insights on how teams adapted and managed their resources in order to optimize their chances of winnings, further providing evidence supporting the effectiveness of the most commonly used strategies in Valorant.\n",
        "\n",
        "We found that teams who saved credits during eco rounds in order to prepare for the next full-buy round, were more well positioned to win in those subsequent rounds. These finding align with the theory presented in our background where the guaranteed income from losses allows teams to recover from early setback and optimize for future rounds. This was validated by the higher win rates observed in full-buy rounds following semi-eco rounds.\n",
        "\n",
        "Moreover, the patterns in loadout advantages reinforce the findings from the Medium study discussed in our background. The correlation between higher average combat scores and round success reveals the relationship between resource management and performance. Our study adds more to this as, instead of focusing on player performance, we focus on the interactions between economic strategies and match conditions.\n",
        "\n",
        "Although the data in this study has brought us insights on Valorant's economic system, it's also important to acknowledge our limitations. The dataset does not capture all the nuances that goes into a Valorant game that affects the outcome of a round like agent abilities or player skill. Despite these limitations, the results of this study still hold substantial merit. We have been able to identify clear trends on how teams navigate the game's economy. While this data is a bit abstract, it provides a foundation for understanding how Valorant economy affects the outcome of a round or game.\n",
        "\n",
        "In conclusion, our study offers data driven insights on the application of economic theory/strategy and their applications in Valorant. It emphasizes the importance of long term planning and resource management with the goal of optimizing gameplay. We hope that these findings contribute to a furthered understanding of the game's economics.\n",
        "\n",
        "\n",
        "\n",
        "# Team Contributions\n",
        "\n",
        "Specify who did what. This should be pretty granular, perhaps bullet points, no more than a few sentences per person.\n",
        "\n",
        "- **Nicole Huynh**\n",
        "- **Taylin Kieu**\n",
        "    - Wrote the \"Ethics and Privacy\" and \"Discussion and Conclusion\" section\n",
        "    - Helped analyze the relatinships between non-linear variables\n",
        "- **Justin Lu**\n",
        "    - Proposed general idea and contributed to the Research Question\n",
        "    - Wrote portions of the Background and Prior Work section\n",
        "    - Created and analyzed variable distribution visualizations\n",
        "- **Jasmine Mari Ko**\n",
        "- **Clara Sbardelotto Dos**"
      ]
    },
    {
      "cell_type": "code",
      "execution_count": null,
      "metadata": {
        "id": "fiWG7rYot6kc"
      },
      "outputs": [],
      "source": []
    }
  ],
  "metadata": {
    "kernelspec": {
      "display_name": "Python 3 (ipykernel)",
      "language": "python",
      "name": "python3"
    },
    "language_info": {
      "codemirror_mode": {
        "name": "ipython",
        "version": 3
      },
      "file_extension": ".py",
      "mimetype": "text/x-python",
      "name": "python",
      "nbconvert_exporter": "python",
      "pygments_lexer": "ipython3",
      "version": "3.11.5"
    },
    "colab": {
      "provenance": []
    }
  },
  "nbformat": 4,
  "nbformat_minor": 0
}